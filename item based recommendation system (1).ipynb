{
 "cells": [
  {
   "cell_type": "code",
   "execution_count": 103,
   "id": "ff72fede",
   "metadata": {},
   "outputs": [],
   "source": [
    "import pandas as pd\n",
    "import numpy as np"
   ]
  },
  {
   "cell_type": "code",
   "execution_count": 266,
   "id": "f59514c2",
   "metadata": {},
   "outputs": [],
   "source": [
    "df=pd.read_csv('Amazon-products.csv')"
   ]
  },
  {
   "cell_type": "code",
   "execution_count": 267,
   "id": "8862f69a",
   "metadata": {},
   "outputs": [],
   "source": [
    "df = df.drop('Unnamed: 0', axis=1)\n"
   ]
  },
  {
   "cell_type": "code",
   "execution_count": 268,
   "id": "174ae9ec",
   "metadata": {
    "scrolled": true
   },
   "outputs": [
    {
     "data": {
      "text/plain": [
       "name                   0\n",
       "main_category          0\n",
       "sub_category           0\n",
       "image                  0\n",
       "link                   0\n",
       "ratings           175794\n",
       "no_of_ratings     175794\n",
       "discount_price     61163\n",
       "actual_price       17813\n",
       "dtype: int64"
      ]
     },
     "execution_count": 268,
     "metadata": {},
     "output_type": "execute_result"
    }
   ],
   "source": [
    "df.isna().sum()"
   ]
  },
  {
   "cell_type": "code",
   "execution_count": 269,
   "id": "4c4ae5f1",
   "metadata": {},
   "outputs": [],
   "source": [
    "df['no_of_ratings']=df['no_of_ratings'].fillna(0)\n",
    "df['ratings']=df['ratings'].fillna(0)\n",
    "df['discount_price']=df['discount_price'].fillna(0)\n",
    "df=df.dropna()"
   ]
  },
  {
   "cell_type": "code",
   "execution_count": 270,
   "id": "02a2eb00",
   "metadata": {
    "scrolled": true
   },
   "outputs": [
    {
     "name": "stdout",
     "output_type": "stream",
     "text": [
      "0\n",
      "name              0\n",
      "main_category     0\n",
      "sub_category      0\n",
      "image             0\n",
      "link              0\n",
      "ratings           0\n",
      "no_of_ratings     0\n",
      "discount_price    0\n",
      "actual_price      0\n",
      "dtype: int64\n"
     ]
    }
   ],
   "source": [
    "print(df.duplicated().sum())\n",
    "print(df.isna().sum())"
   ]
  },
  {
   "cell_type": "code",
   "execution_count": 271,
   "id": "ecde5917",
   "metadata": {},
   "outputs": [],
   "source": [
    "# Removing the ₹ sign\n",
    "df[\"discount_price\"] = df[\"discount_price\"].str.split(\" \", expand = True).get(0).str.split(\"₹\", expand = True).get(1)\n",
    "df[\"actual_price\"] = df[\"actual_price\"].str.split(\" \", expand = True).get(0).str.split(\"₹\", expand = True).get(1)\n",
    "# Change commas to dots and change the type to float\n",
    "df['discount_price'] = df[\"discount_price\"].str.replace(',', '').astype(float)\n",
    "df[\"actual_price\"] = df[\"actual_price\"].str.replace(',', '').astype(float)"
   ]
  },
  {
   "cell_type": "code",
   "execution_count": 272,
   "id": "5cc7cb3d",
   "metadata": {
    "scrolled": true
   },
   "outputs": [
    {
     "data": {
      "text/plain": [
       "array([4.2, 4. , 4.1, 4.3, 3.9, 3.8, 3.5, 0. , 4.6, 3.3, 3.4, 3.7, 2.9,\n",
       "       5. , 4.4, 3.6, 2.7, 4.5, 3. , 3.1, 3.2, 4.8, 4.7, 2.5, 1. , 2.6,\n",
       "       2.8, 1.7, 1.8, 2.4, 4.9, 2.2, 1.6, 1.9, 2.3, 2. , 1.4, 2.1, 1.2,\n",
       "       1.3, 1.5, 1.1])"
      ]
     },
     "execution_count": 272,
     "metadata": {},
     "output_type": "execute_result"
    }
   ],
   "source": [
    "df['ratings'] = pd.to_numeric(df['ratings'], errors='coerce')\n",
    "df = df.dropna(subset=['ratings'])\n",
    "\n",
    "# Extract the digits and change the type to float\n",
    "#df['ratings'] = df['ratings'].replace(['Get','FREE','₹68.99', '₹65','₹70', '₹100', '₹99', '₹2.99'], '0.0')\n",
    "df['ratings'] = df[\"ratings\"].astype(float)\n",
    "df['ratings'].unique()"
   ]
  },
  {
   "cell_type": "code",
   "execution_count": 273,
   "id": "ecd7acc2",
   "metadata": {},
   "outputs": [],
   "source": [
    "df['no_of_ratings']=df['no_of_ratings'].str.replace(',','')\n",
    "df['no_of_ratings'] = pd.to_numeric(df['no_of_ratings'], errors='coerce')\n",
    "\n",
    "# drop any rows with NaN values in the 'no_of_ratings' column\n",
    "df = df.dropna(subset=['no_of_ratings'])\n",
    "\n",
    "# convert the 'no_of_ratings' column to integer values\n",
    "df['no_of_ratings'] = df['no_of_ratings'].astype(int)"
   ]
  },
  {
   "cell_type": "code",
   "execution_count": 274,
   "id": "5d22075a",
   "metadata": {
    "scrolled": true
   },
   "outputs": [
    {
     "data": {
      "text/plain": [
       "362797"
      ]
     },
     "execution_count": 274,
     "metadata": {},
     "output_type": "execute_result"
    }
   ],
   "source": [
    "len(df)"
   ]
  },
  {
   "cell_type": "code",
   "execution_count": 275,
   "id": "1a65e9a4",
   "metadata": {},
   "outputs": [],
   "source": [
    "result = {}\n",
    "\n",
    "# loop over each unique main category value\n",
    "for main_cat in df['main_category'].unique():\n",
    "    \n",
    "    # get the unique sub category values for this main category\n",
    "    sub_cats = df.loc[df['main_category'] == main_cat, 'sub_category'].unique().tolist()\n",
    "    \n",
    "    # add the main category and its sub categories to the result dictionary\n",
    "    result[main_cat] = sub_cats"
   ]
  },
  {
   "cell_type": "code",
   "execution_count": null,
   "id": "f3bfd231",
   "metadata": {},
   "outputs": [],
   "source": [
    "import json\n",
    "\n",
    "# create a dictionary\n",
    "\n",
    "# open a file for writing\n",
    "with open('categories.json', 'w') as f:\n",
    "    # write the dictionary to the file in JSON format\n",
    "    json.dump(result, f)"
   ]
  },
  {
   "cell_type": "code",
   "execution_count": 276,
   "id": "7c1d6440",
   "metadata": {},
   "outputs": [
    {
     "data": {
      "text/plain": [
       "362797"
      ]
     },
     "execution_count": 276,
     "metadata": {},
     "output_type": "execute_result"
    }
   ],
   "source": [
    "len(df)"
   ]
  },
  {
   "cell_type": "code",
   "execution_count": 277,
   "id": "edddfdd9",
   "metadata": {},
   "outputs": [],
   "source": [
    "vote_counts = df[df['no_of_ratings'].notnull()]['no_of_ratings'].astype('int')\n",
    "vote_averages = df[df['ratings'].notnull()]['ratings'].astype('int')\n",
    "C = vote_averages.mean()"
   ]
  },
  {
   "cell_type": "code",
   "execution_count": 278,
   "id": "6d66c408",
   "metadata": {},
   "outputs": [],
   "source": [
    "m = df.no_of_ratings.quantile(0.85)\n"
   ]
  },
  {
   "cell_type": "code",
   "execution_count": 279,
   "id": "fef33e0b",
   "metadata": {},
   "outputs": [
    {
     "data": {
      "text/plain": [
       "(54420, 9)"
      ]
     },
     "execution_count": 279,
     "metadata": {},
     "output_type": "execute_result"
    }
   ],
   "source": [
    "qualified = df[(df['no_of_ratings'] >= m) & (df['no_of_ratings'].notnull()) & (df['ratings'].notnull())][['name', 'main_category', 'sub_category', 'image', 'link', 'ratings','no_of_ratings','discount_price','actual_price']]\n",
    "qualified['no_of_ratings'] = qualified['no_of_ratings'].astype('int')\n",
    "qualified['ratings'] = qualified['ratings'].astype('float')\n",
    "qualified.shape"
   ]
  },
  {
   "cell_type": "code",
   "execution_count": 280,
   "id": "46885556",
   "metadata": {},
   "outputs": [],
   "source": [
    "def weighted_rating(x):\n",
    "    v = x['no_of_ratings']\n",
    "    R = x['ratings']\n",
    "    return (v/(v+m) * R) + (m/(m+v) * C)"
   ]
  },
  {
   "cell_type": "code",
   "execution_count": 281,
   "id": "3bca9e38",
   "metadata": {},
   "outputs": [],
   "source": [
    "qualified['wr'] = qualified.apply(weighted_rating, axis=1)"
   ]
  },
  {
   "cell_type": "code",
   "execution_count": 282,
   "id": "38bd9f78",
   "metadata": {},
   "outputs": [],
   "source": [
    "qualified = qualified.sort_values('wr', ascending=False)"
   ]
  },
  {
   "cell_type": "code",
   "execution_count": 283,
   "id": "2ad30849",
   "metadata": {},
   "outputs": [],
   "source": [
    "qualified['discount_price']=qualified['discount_price'].fillna(value=0)"
   ]
  },
  {
   "cell_type": "code",
   "execution_count": 284,
   "id": "d6784ac8",
   "metadata": {},
   "outputs": [],
   "source": [
    "qualified.to_csv('final_data.csv', index=False)\n"
   ]
  },
  {
   "cell_type": "code",
   "execution_count": 295,
   "id": "b5a8cfaf",
   "metadata": {},
   "outputs": [],
   "source": [
    "def build_chart(main_category,sub_category=None,percentile=0.85):\n",
    "    df1 = df[df['main_category'] == main_category]\n",
    "    if sub_category is not None:\n",
    "        df1 = df1[df1['sub_category'] == sub_category]\n",
    "        category = sub_category\n",
    "    else:\n",
    "        category = main_category\n",
    "    vote_counts = df1[df1['no_of_ratings'].notnull()]['no_of_ratings'].astype('int')\n",
    "    vote_averages = df1[df1['ratings'].notnull()]['ratings'].astype('int')\n",
    "    C = vote_averages.mean()\n",
    "    m = vote_counts.quantile(percentile)\n",
    "    \n",
    "    qualified = df1[(df1['no_of_ratings'] >= m) & (df1['no_of_ratings'].notnull()) & (df1['ratings'].notnull())][['name', 'main_category', 'sub_category', 'image', 'link', 'ratings','no_of_ratings','discount_price','actual_price']]\n",
    "    qualified['no_of_ratings'] = qualified['no_of_ratings'].astype('int')\n",
    "    qualified['ratings'] = qualified['ratings'].astype('float')\n",
    "    \n",
    "    qualified['wr'] = qualified.apply(lambda x: (x['no_of_ratings']/(x['no_of_ratings']+m) * x['ratings']) + (m/(m+x['no_of_ratings']) * C), axis=1)\n",
    "    qualified = qualified.sort_values('wr', ascending=False).head(10)\n",
    "    \n",
    "    return qualified"
   ]
  },
  {
   "cell_type": "code",
   "execution_count": 297,
   "id": "b6ce030d",
   "metadata": {},
   "outputs": [
    {
     "data": {
      "text/html": [
       "<div>\n",
       "<style scoped>\n",
       "    .dataframe tbody tr th:only-of-type {\n",
       "        vertical-align: middle;\n",
       "    }\n",
       "\n",
       "    .dataframe tbody tr th {\n",
       "        vertical-align: top;\n",
       "    }\n",
       "\n",
       "    .dataframe thead th {\n",
       "        text-align: right;\n",
       "    }\n",
       "</style>\n",
       "<table border=\"1\" class=\"dataframe\">\n",
       "  <thead>\n",
       "    <tr style=\"text-align: right;\">\n",
       "      <th></th>\n",
       "      <th>name</th>\n",
       "      <th>main_category</th>\n",
       "      <th>sub_category</th>\n",
       "      <th>image</th>\n",
       "      <th>link</th>\n",
       "      <th>ratings</th>\n",
       "      <th>no_of_ratings</th>\n",
       "      <th>discount_price</th>\n",
       "      <th>actual_price</th>\n",
       "      <th>wr</th>\n",
       "    </tr>\n",
       "  </thead>\n",
       "  <tbody>\n",
       "    <tr>\n",
       "      <th>1422</th>\n",
       "      <td>Cascade Mini Portable Air Cooler,Personal Spac...</td>\n",
       "      <td>appliances</td>\n",
       "      <td>All Appliances</td>\n",
       "      <td>https://m.media-amazon.com/images/I/61Vnoy0m+Q...</td>\n",
       "      <td>https://www.amazon.in/Cascade-Portable-Persona...</td>\n",
       "      <td>4.8</td>\n",
       "      <td>52281</td>\n",
       "      <td>2999.0</td>\n",
       "      <td>4999.0</td>\n",
       "      <td>4.775330</td>\n",
       "    </tr>\n",
       "    <tr>\n",
       "      <th>7427</th>\n",
       "      <td>iRobot Authentic Replacement Parts- Clean Base...</td>\n",
       "      <td>appliances</td>\n",
       "      <td>All Appliances</td>\n",
       "      <td>https://m.media-amazon.com/images/I/71VcMpQAVs...</td>\n",
       "      <td>https://www.amazon.in/Authentic-Replacement-Au...</td>\n",
       "      <td>4.8</td>\n",
       "      <td>18941</td>\n",
       "      <td>1999.0</td>\n",
       "      <td>6999.0</td>\n",
       "      <td>4.734168</td>\n",
       "    </tr>\n",
       "    <tr>\n",
       "      <th>3975</th>\n",
       "      <td>LEVOIT Mini Portable Air Cooler,Personal Space...</td>\n",
       "      <td>appliances</td>\n",
       "      <td>All Appliances</td>\n",
       "      <td>https://m.media-amazon.com/images/I/71lOGeZZQn...</td>\n",
       "      <td>https://www.amazon.in/LEVOIT-Conditioner-moldp...</td>\n",
       "      <td>4.8</td>\n",
       "      <td>13283</td>\n",
       "      <td>2499.0</td>\n",
       "      <td>3999.0</td>\n",
       "      <td>4.708163</td>\n",
       "    </tr>\n",
       "    <tr>\n",
       "      <th>9697</th>\n",
       "      <td>Dash DMW001RD Mini Waffle Maker, Red</td>\n",
       "      <td>appliances</td>\n",
       "      <td>All Appliances</td>\n",
       "      <td>https://m.media-amazon.com/images/W/IMAGERENDE...</td>\n",
       "      <td>https://www.amazon.in/Red-Dash-DMW001RD-Waffle...</td>\n",
       "      <td>4.7</td>\n",
       "      <td>53915</td>\n",
       "      <td>3278.0</td>\n",
       "      <td>4689.0</td>\n",
       "      <td>4.677957</td>\n",
       "    </tr>\n",
       "    <tr>\n",
       "      <th>3141</th>\n",
       "      <td>AmazonBasics 2 slice Toaster with Stainless St...</td>\n",
       "      <td>appliances</td>\n",
       "      <td>All Appliances</td>\n",
       "      <td>https://m.media-amazon.com/images/I/713n1fmP3U...</td>\n",
       "      <td>https://www.amazon.in/Amazon-Basics-Toaster-se...</td>\n",
       "      <td>4.7</td>\n",
       "      <td>19190</td>\n",
       "      <td>2199.0</td>\n",
       "      <td>2999.0</td>\n",
       "      <td>4.640121</td>\n",
       "    </tr>\n",
       "    <tr>\n",
       "      <th>4851</th>\n",
       "      <td>Instant Pot Air Fryer, Vortex 4 Litre, Touch C...</td>\n",
       "      <td>appliances</td>\n",
       "      <td>All Appliances</td>\n",
       "      <td>https://m.media-amazon.com/images/W/IMAGERENDE...</td>\n",
       "      <td>https://www.amazon.in/Instant-Vortex-One-Touch...</td>\n",
       "      <td>4.7</td>\n",
       "      <td>14904</td>\n",
       "      <td>22200.0</td>\n",
       "      <td>25541.0</td>\n",
       "      <td>4.624025</td>\n",
       "    </tr>\n",
       "    <tr>\n",
       "      <th>6592</th>\n",
       "      <td>Irobot Replacement Parts- Braava Jet Hard Floo...</td>\n",
       "      <td>appliances</td>\n",
       "      <td>All Appliances</td>\n",
       "      <td>https://m.media-amazon.com/images/I/61lS3YCy3x...</td>\n",
       "      <td>https://www.amazon.in/Authentic-Replacement-Cl...</td>\n",
       "      <td>4.7</td>\n",
       "      <td>10573</td>\n",
       "      <td>NaN</td>\n",
       "      <td>1490.0</td>\n",
       "      <td>4.595692</td>\n",
       "    </tr>\n",
       "    <tr>\n",
       "      <th>6677</th>\n",
       "      <td>Irobot Replacement Parts- Braava Jet Hard Floo...</td>\n",
       "      <td>appliances</td>\n",
       "      <td>All Appliances</td>\n",
       "      <td>https://m.media-amazon.com/images/W/IMAGERENDE...</td>\n",
       "      <td>https://www.amazon.in/Authentic-Replacement-Cl...</td>\n",
       "      <td>4.7</td>\n",
       "      <td>10573</td>\n",
       "      <td>NaN</td>\n",
       "      <td>1490.0</td>\n",
       "      <td>4.595692</td>\n",
       "    </tr>\n",
       "    <tr>\n",
       "      <th>5427</th>\n",
       "      <td>Karcher Filter Bag Fleece PVC Set Packaged 4X ...</td>\n",
       "      <td>appliances</td>\n",
       "      <td>All Appliances</td>\n",
       "      <td>https://m.media-amazon.com/images/I/81yk65EfHs...</td>\n",
       "      <td>https://www.amazon.in/Karcher-Packaged-Cleaner...</td>\n",
       "      <td>4.7</td>\n",
       "      <td>9635</td>\n",
       "      <td>1199.0</td>\n",
       "      <td>1476.0</td>\n",
       "      <td>4.586527</td>\n",
       "    </tr>\n",
       "    <tr>\n",
       "      <th>1738</th>\n",
       "      <td>Instant Pot Air Fryer, Vortex 4 Litre Essentia...</td>\n",
       "      <td>appliances</td>\n",
       "      <td>All Appliances</td>\n",
       "      <td>https://m.media-amazon.com/images/W/IMAGERENDE...</td>\n",
       "      <td>https://www.amazon.in/Instant-Vortex-4QT-EvenC...</td>\n",
       "      <td>4.8</td>\n",
       "      <td>4302</td>\n",
       "      <td>6993.0</td>\n",
       "      <td>20088.0</td>\n",
       "      <td>4.553780</td>\n",
       "    </tr>\n",
       "  </tbody>\n",
       "</table>\n",
       "</div>"
      ],
      "text/plain": [
       "                                                   name main_category  \\\n",
       "1422  Cascade Mini Portable Air Cooler,Personal Spac...    appliances   \n",
       "7427  iRobot Authentic Replacement Parts- Clean Base...    appliances   \n",
       "3975  LEVOIT Mini Portable Air Cooler,Personal Space...    appliances   \n",
       "9697               Dash DMW001RD Mini Waffle Maker, Red    appliances   \n",
       "3141  AmazonBasics 2 slice Toaster with Stainless St...    appliances   \n",
       "4851  Instant Pot Air Fryer, Vortex 4 Litre, Touch C...    appliances   \n",
       "6592  Irobot Replacement Parts- Braava Jet Hard Floo...    appliances   \n",
       "6677  Irobot Replacement Parts- Braava Jet Hard Floo...    appliances   \n",
       "5427  Karcher Filter Bag Fleece PVC Set Packaged 4X ...    appliances   \n",
       "1738  Instant Pot Air Fryer, Vortex 4 Litre Essentia...    appliances   \n",
       "\n",
       "        sub_category                                              image  \\\n",
       "1422  All Appliances  https://m.media-amazon.com/images/I/61Vnoy0m+Q...   \n",
       "7427  All Appliances  https://m.media-amazon.com/images/I/71VcMpQAVs...   \n",
       "3975  All Appliances  https://m.media-amazon.com/images/I/71lOGeZZQn...   \n",
       "9697  All Appliances  https://m.media-amazon.com/images/W/IMAGERENDE...   \n",
       "3141  All Appliances  https://m.media-amazon.com/images/I/713n1fmP3U...   \n",
       "4851  All Appliances  https://m.media-amazon.com/images/W/IMAGERENDE...   \n",
       "6592  All Appliances  https://m.media-amazon.com/images/I/61lS3YCy3x...   \n",
       "6677  All Appliances  https://m.media-amazon.com/images/W/IMAGERENDE...   \n",
       "5427  All Appliances  https://m.media-amazon.com/images/I/81yk65EfHs...   \n",
       "1738  All Appliances  https://m.media-amazon.com/images/W/IMAGERENDE...   \n",
       "\n",
       "                                                   link  ratings  \\\n",
       "1422  https://www.amazon.in/Cascade-Portable-Persona...      4.8   \n",
       "7427  https://www.amazon.in/Authentic-Replacement-Au...      4.8   \n",
       "3975  https://www.amazon.in/LEVOIT-Conditioner-moldp...      4.8   \n",
       "9697  https://www.amazon.in/Red-Dash-DMW001RD-Waffle...      4.7   \n",
       "3141  https://www.amazon.in/Amazon-Basics-Toaster-se...      4.7   \n",
       "4851  https://www.amazon.in/Instant-Vortex-One-Touch...      4.7   \n",
       "6592  https://www.amazon.in/Authentic-Replacement-Cl...      4.7   \n",
       "6677  https://www.amazon.in/Authentic-Replacement-Cl...      4.7   \n",
       "5427  https://www.amazon.in/Karcher-Packaged-Cleaner...      4.7   \n",
       "1738  https://www.amazon.in/Instant-Vortex-4QT-EvenC...      4.8   \n",
       "\n",
       "      no_of_ratings  discount_price  actual_price        wr  \n",
       "1422          52281          2999.0        4999.0  4.775330  \n",
       "7427          18941          1999.0        6999.0  4.734168  \n",
       "3975          13283          2499.0        3999.0  4.708163  \n",
       "9697          53915          3278.0        4689.0  4.677957  \n",
       "3141          19190          2199.0        2999.0  4.640121  \n",
       "4851          14904         22200.0       25541.0  4.624025  \n",
       "6592          10573             NaN        1490.0  4.595692  \n",
       "6677          10573             NaN        1490.0  4.595692  \n",
       "5427           9635          1199.0        1476.0  4.586527  \n",
       "1738           4302          6993.0       20088.0  4.553780  "
      ]
     },
     "execution_count": 297,
     "metadata": {},
     "output_type": "execute_result"
    }
   ],
   "source": [
    "build_chart('appliances','All Appliances')\n"
   ]
  },
  {
   "cell_type": "code",
   "execution_count": null,
   "id": "87138d4a",
   "metadata": {},
   "outputs": [],
   "source": [
    "df.to_csv('final_data.csv', index=False)\n"
   ]
  }
 ],
 "metadata": {
  "kernelspec": {
   "display_name": "Python 3 (ipykernel)",
   "language": "python",
   "name": "python3"
  },
  "language_info": {
   "codemirror_mode": {
    "name": "ipython",
    "version": 3
   },
   "file_extension": ".py",
   "mimetype": "text/x-python",
   "name": "python",
   "nbconvert_exporter": "python",
   "pygments_lexer": "ipython3",
   "version": "3.10.9"
  }
 },
 "nbformat": 4,
 "nbformat_minor": 5
}
